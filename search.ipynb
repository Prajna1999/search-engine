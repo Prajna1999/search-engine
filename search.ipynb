{
 "cells": [
  {
   "cell_type": "code",
   "execution_count": 2,
   "id": "0850f75f",
   "metadata": {},
   "outputs": [],
   "source": [
    "import logging\n",
    "logging.basicConfig(format='%(asctime)s : %(levelname)s : %(message)s', level=logging.INFO)"
   ]
  },
  {
   "cell_type": "code",
   "execution_count": 2,
   "id": "67060d48",
   "metadata": {},
   "outputs": [
    {
     "name": "stdout",
     "output_type": "stream",
     "text": [
      "['fasttext-wiki-news-subwords-300', 'conceptnet-numberbatch-17-06-300', 'word2vec-ruscorpora-300', 'word2vec-google-news-300', 'glove-wiki-gigaword-50', 'glove-wiki-gigaword-100', 'glove-wiki-gigaword-200', 'glove-wiki-gigaword-300', 'glove-twitter-25', 'glove-twitter-50', 'glove-twitter-100', 'glove-twitter-200', '__testing_word2vec-matrix-synopsis']\n"
     ]
    }
   ],
   "source": [
    "import gensim.downloader \n",
    "print(list(gensim.downloader.info()['models'].keys()))"
   ]
  },
  {
   "cell_type": "code",
   "execution_count": 3,
   "id": "afdae424",
   "metadata": {},
   "outputs": [
    {
     "name": "stdout",
     "output_type": "stream",
     "text": [
      "[==================================================] 100.0% 104.8/104.8MB downloaded\n"
     ]
    },
    {
     "name": "stderr",
     "output_type": "stream",
     "text": [
      "2025-08-23 17:29:42,235 : INFO : glove-twitter-25 downloaded\n",
      "2025-08-23 17:29:42,237 : INFO : loading projection weights from /home/prajna/gensim-data/glove-twitter-25/glove-twitter-25.gz\n",
      "2025-08-23 17:30:08,228 : INFO : KeyedVectors lifecycle event {'msg': 'loaded (1193514, 25) matrix of type float32 from /home/prajna/gensim-data/glove-twitter-25/glove-twitter-25.gz', 'binary': False, 'encoding': 'utf8', 'datetime': '2025-08-23T17:30:08.228678', 'gensim': '4.3.3', 'python': '3.12.3 (main, Apr 15 2024, 18:25:56) [Clang 17.0.6 ]', 'platform': 'Linux-6.6.87.2-microsoft-standard-WSL2-x86_64-with-glibc2.35', 'event': 'load_word2vec_format'}\n"
     ]
    }
   ],
   "source": [
    "# download glove vectors\n",
    "glove_vectors=gensim.downloader.load('glove-twitter-25')"
   ]
  },
  {
   "cell_type": "code",
   "execution_count": 5,
   "id": "0154dc78",
   "metadata": {},
   "outputs": [],
   "source": [
    "import gzip\n",
    "import io\n",
    "def load_vectors(path):\n",
    "    try:\n",
    "\n",
    "        with gzip.open(path, \"rb\") as gz_file:\n",
    "            with io.TextIOWrapper(gz_file, encoding='utf-8') as text_file:\n",
    "                for line in text_file:\n",
    "                    print(line.strip())\n",
    "    except FileNotFoundError:\n",
    "        logging.error(f\"Error: file not found at {path}\")\n",
    "    except Exception as e:\n",
    "        logging.error(f\"An exception occured: {str(e)}\")\n",
    "\n"
   ]
  },
  {
   "cell_type": "code",
   "execution_count": 21,
   "id": "b882356d",
   "metadata": {},
   "outputs": [],
   "source": [
    "# check vocabulary of the model\n",
    "def check_vocabulary(wv):\n",
    "    for index, word in enumerate(wv.index_to_key):\n",
    "        if index==10:\n",
    "            break\n",
    "        print(f\"word #{index}/{len(wv.index_to_key)} is {word}\")"
   ]
  },
  {
   "cell_type": "code",
   "execution_count": 22,
   "id": "5bd7fb7b",
   "metadata": {},
   "outputs": [
    {
     "name": "stdout",
     "output_type": "stream",
     "text": [
      "word #0/1193514 is <user>\n",
      "word #1/1193514 is .\n",
      "word #2/1193514 is :\n",
      "word #3/1193514 is rt\n",
      "word #4/1193514 is ,\n",
      "word #5/1193514 is <repeat>\n",
      "word #6/1193514 is <hashtag>\n",
      "word #7/1193514 is <number>\n",
      "word #8/1193514 is <url>\n",
      "word #9/1193514 is !\n"
     ]
    }
   ],
   "source": [
    "check_vocabulary(glove_vectors)"
   ]
  },
  {
   "cell_type": "code",
   "execution_count": null,
   "id": "596a5d9c",
   "metadata": {},
   "outputs": [
    {
     "data": {
      "text/plain": [
       "array([-0.74501 , -0.11992 ,  0.37329 ,  0.36847 , -0.4472  , -0.2288  ,\n",
       "        0.70118 ,  0.82872 ,  0.39486 , -0.58347 ,  0.41488 ,  0.37074 ,\n",
       "       -3.6906  , -0.20101 ,  0.11472 , -0.34661 ,  0.36208 ,  0.095679,\n",
       "       -0.01765 ,  0.68498 , -0.049013,  0.54049 , -0.21005 , -0.65397 ,\n",
       "        0.64556 ], dtype=float32)"
      ]
     },
     "execution_count": 28,
     "metadata": {},
     "output_type": "execute_result"
    }
   ],
   "source": [
    "# 25 dimensional vector\n",
    "glove_vectors.get_vector('king')\n"
   ]
  },
  {
   "cell_type": "code",
   "execution_count": 29,
   "id": "2f96022e",
   "metadata": {},
   "outputs": [
    {
     "name": "stderr",
     "output_type": "stream",
     "text": [
      "2025-08-23 18:10:27,876 : INFO : adding document #0 to Dictionary<0 unique tokens: []>\n",
      "2025-08-23 18:10:27,878 : INFO : built Dictionary<12 unique tokens: ['computer', 'human', 'interface', 'response', 'survey']...> from 9 documents (total 29 corpus positions)\n",
      "2025-08-23 18:10:27,878 : INFO : Dictionary lifecycle event {'msg': \"built Dictionary<12 unique tokens: ['computer', 'human', 'interface', 'response', 'survey']...> from 9 documents (total 29 corpus positions)\", 'datetime': '2025-08-23T18:10:27.878943', 'gensim': '4.3.3', 'python': '3.12.3 (main, Apr 15 2024, 18:25:56) [Clang 17.0.6 ]', 'platform': 'Linux-6.6.87.2-microsoft-standard-WSL2-x86_64-with-glibc2.35', 'event': 'created'}\n"
     ]
    }
   ],
   "source": [
    "from collections import defaultdict\n",
    "from gensim import corpora\n",
    "\n",
    "documents = [\n",
    "    \"Human machine interface for lab abc computer applications\",\n",
    "    \"A survey of user opinion of computer system response time\",\n",
    "    \"The EPS user interface management system\",\n",
    "    \"System and human system engineering testing of EPS\",\n",
    "    \"Relation of user perceived response time to error measurement\",\n",
    "    \"The generation of random binary unordered trees\",\n",
    "    \"The intersection graph of paths in trees\",\n",
    "    \"Graph minors IV Widths of trees and well quasi ordering\",\n",
    "    \"Graph minors A survey\",\n",
    "]\n",
    "\n",
    "# remove common words and tokenize\n",
    "stoplist = set('for a of the and to in'.split())\n",
    "texts = [\n",
    "    [word for word in document.lower().split() if word not in stoplist]\n",
    "    for document in documents\n",
    "]\n",
    "\n",
    "# remove words that appear only once\n",
    "frequency = defaultdict(int)\n",
    "for text in texts:\n",
    "    for token in text:\n",
    "        frequency[token] += 1\n",
    "\n",
    "texts = [\n",
    "    [token for token in text if frequency[token] > 1]\n",
    "    for text in texts\n",
    "]\n",
    "\n",
    "dictionary = corpora.Dictionary(texts)\n",
    "corpus = [dictionary.doc2bow(text) for text in texts]"
   ]
  },
  {
   "cell_type": "code",
   "execution_count": 34,
   "id": "efe4b71a",
   "metadata": {},
   "outputs": [],
   "source": [
    "# vectorize and add new vectors\n",
    "def vector_add(a,b):\n",
    "    return [x+y for x,y in zip(a,b)]"
   ]
  },
  {
   "cell_type": "code",
   "execution_count": 3,
   "id": "14b47de9",
   "metadata": {},
   "outputs": [
    {
     "name": "stderr",
     "output_type": "stream",
     "text": [
      "2025-08-23 21:52:27,964 : INFO : adding document #0 to Dictionary<0 unique tokens: []>\n",
      "2025-08-23 21:52:27,967 : INFO : built Dictionary<12 unique tokens: ['computer', 'human', 'interface', 'response', 'survey']...> from 9 documents (total 29 corpus positions)\n",
      "2025-08-23 21:52:27,969 : INFO : Dictionary lifecycle event {'msg': \"built Dictionary<12 unique tokens: ['computer', 'human', 'interface', 'response', 'survey']...> from 9 documents (total 29 corpus positions)\", 'datetime': '2025-08-23T21:52:27.969271', 'gensim': '4.3.3', 'python': '3.12.3 (main, Apr 15 2024, 18:25:56) [Clang 17.0.6 ]', 'platform': 'Linux-6.6.87.2-microsoft-standard-WSL2-x86_64-with-glibc2.35', 'event': 'created'}\n"
     ]
    },
    {
     "name": "stdout",
     "output_type": "stream",
     "text": [
      "[['human', 'interface', 'computer'], ['survey', 'user', 'computer', 'system', 'response', 'time'], ['eps', 'user', 'interface', 'system'], ['system', 'human', 'system', 'eps'], ['user', 'response', 'time'], ['trees'], ['graph', 'trees'], ['graph', 'minors', 'trees'], ['graph', 'minors', 'survey']]\n"
     ]
    }
   ],
   "source": [
    "# iterate through each word and add to the embeddings.\n",
    "from gensim import utils\n",
    "from gensim.test.utils import common_texts, common_corpus, common_dictionary, datapath\n",
    "\n",
    "print(common_texts) #a list of list of individual tokens. This is the format \n",
    "\n"
   ]
  },
  {
   "cell_type": "code",
   "execution_count": 4,
   "id": "77b6d434",
   "metadata": {},
   "outputs": [
    {
     "name": "stdout",
     "output_type": "stream",
     "text": [
      "['Title: A sprint from the hills\\n']\n",
      "['Author: Kurund Jalmi\\n']\n",
      "['Date: November 2021\\n']\n",
      "['Category: Tech4Dev project Updates\\n']\n",
      "['URL: https://projecttech4dev.org/a-sprint-from-the-hills/\\n']\n",
      "['==================================================\\n']\n",
      "['\\n']\n",
      "['The article is written by the Plio team(Aman, Karn, Deepansh). Originally posed\\n']\n",
      "['here\\n']\n",
      "['.\\n']\n",
      "['You know how so many people have been taking full advantage of remote working by working from very exotic-looking places? Yeah, we haven’t been like those people.\\n']\n",
      "['Until last week. We got a chance to travel to Tehri (Uttarakhand, India) where multiple organisations working at the intersection of technology and social impact had assembled for a week-long sprint.\\n']\n",
      "['New Tehri\\xa0is a modern town developed at the hilltop, spread over an altitude from 1550-1950 metres above sea level overlooking the gigantic Tehri lake and\\xa0the Tehri dam. Every morning, we woke up to an amalgamation of the lake, mountains, clouds, chirping birds, a troop of rafters and the clingiest of dogs in our wooden huts.\\n']\n",
      "['View from our rooms\\n']\n",
      "['We have to be honest. It was really hard to get ourselves out of our bed. But the fact that the entire day had so many exciting things planned got us going (along with the fact that if we didnt board the last cab at 8:45, we’d have to walk for 90 minutes to reach the workspace).\\n']\n"
     ]
    }
   ],
   "source": [
    "# preprocess the .txt files\n",
    "with open('tech4dev_blogs/A sprint from the hills.txt') as f:\n",
    "    for n,l in enumerate(f):\n",
    "        if n<15:\n",
    "            print([l])"
   ]
  },
  {
   "cell_type": "code",
   "execution_count": 5,
   "id": "c9e2763e",
   "metadata": {},
   "outputs": [],
   "source": [
    "# build tokenized text from file\n",
    "def build_texts(file_path):\n",
    "    with open(file_path) as f:\n",
    "        for line in f:\n",
    "            yield utils.simple_preprocess(line, deacc=True, min_len=5)"
   ]
  },
  {
   "cell_type": "code",
   "execution_count": 7,
   "id": "cfe2ae1a",
   "metadata": {},
   "outputs": [],
   "source": [
    "train_texts=list(build_texts('t4d_corpus_no_empty_lines.txt'))\n"
   ]
  },
  {
   "cell_type": "code",
   "execution_count": 8,
   "id": "b5f9791c",
   "metadata": {},
   "outputs": [
    {
     "data": {
      "text/plain": [
       "52673"
      ]
     },
     "execution_count": 8,
     "metadata": {},
     "output_type": "execute_result"
    }
   ],
   "source": [
    "len(train_texts)"
   ]
  },
  {
   "cell_type": "code",
   "execution_count": 10,
   "id": "2a149221",
   "metadata": {},
   "outputs": [],
   "source": [
    "train_texts_cleaned=[word_list for word_list in train_texts if not (isinstance(word_list,list) and len(word_list)==0)]"
   ]
  },
  {
   "cell_type": "code",
   "execution_count": 11,
   "id": "35f451fb",
   "metadata": {},
   "outputs": [
    {
     "data": {
      "text/plain": [
       "43472"
      ]
     },
     "execution_count": 11,
     "metadata": {},
     "output_type": "execute_result"
    }
   ],
   "source": [
    "len(train_texts_cleaned)\n"
   ]
  },
  {
   "cell_type": "code",
   "execution_count": 93,
   "id": "9762fd08",
   "metadata": {},
   "outputs": [
    {
     "ename": "TypeError",
     "evalue": "write() argument must be str, not list",
     "output_type": "error",
     "traceback": [
      "\u001b[31m---------------------------------------------------------------------------\u001b[39m",
      "\u001b[31mTypeError\u001b[39m                                 Traceback (most recent call last)",
      "\u001b[36mCell\u001b[39m\u001b[36m \u001b[39m\u001b[32mIn[93]\u001b[39m\u001b[32m, line 2\u001b[39m\n\u001b[32m      1\u001b[39m \u001b[38;5;28;01mwith\u001b[39;00m \u001b[38;5;28mopen\u001b[39m(\u001b[33m'\u001b[39m\u001b[33mt4d_corpora.txt\u001b[39m\u001b[33m'\u001b[39m, \u001b[33m'\u001b[39m\u001b[33mw\u001b[39m\u001b[33m'\u001b[39m) \u001b[38;5;28;01mas\u001b[39;00m file:\n\u001b[32m----> \u001b[39m\u001b[32m2\u001b[39m     \u001b[43mfile\u001b[49m\u001b[43m.\u001b[49m\u001b[43mwrite\u001b[49m\u001b[43m(\u001b[49m\u001b[43mtrain_texts_cleaned\u001b[49m\u001b[43m)\u001b[49m\n",
      "\u001b[31mTypeError\u001b[39m: write() argument must be str, not list"
     ]
    }
   ],
   "source": [
    "with open('t4d_corpora.txt', 'w') as file:\n",
    "    file.write(train_texts_cleaned)"
   ]
  },
  {
   "cell_type": "code",
   "execution_count": 12,
   "id": "b99cad58",
   "metadata": {},
   "outputs": [
    {
     "data": {
      "text/plain": [
       "[['improving', 'visual', 'designs', 'other', 'parts', 'product']]"
      ]
     },
     "execution_count": 12,
     "metadata": {},
     "output_type": "execute_result"
    }
   ],
   "source": [
    "train_texts_cleaned[11:12]"
   ]
  },
  {
   "cell_type": "code",
   "execution_count": 13,
   "id": "3d46fd82",
   "metadata": {},
   "outputs": [
    {
     "name": "stderr",
     "output_type": "stream",
     "text": [
      "2025-08-23 22:05:14,039 : INFO : collecting all words and their counts\n",
      "2025-08-23 22:05:14,042 : INFO : PROGRESS: at sentence #0, processed 0 words, keeping 0 word types\n",
      "2025-08-23 22:05:14,083 : INFO : PROGRESS: at sentence #10000, processed 89105 words, keeping 9207 word types\n",
      "2025-08-23 22:05:14,137 : INFO : PROGRESS: at sentence #20000, processed 175539 words, keeping 12402 word types\n",
      "2025-08-23 22:05:14,176 : INFO : PROGRESS: at sentence #30000, processed 264102 words, keeping 12855 word types\n",
      "2025-08-23 22:05:14,224 : INFO : PROGRESS: at sentence #40000, processed 351754 words, keeping 12855 word types\n",
      "2025-08-23 22:05:14,244 : INFO : collected 12876 word types from a corpus of 380940 raw words and 43472 sentences\n",
      "2025-08-23 22:05:14,245 : INFO : Creating a fresh vocabulary\n",
      "2025-08-23 22:05:14,287 : INFO : Word2Vec lifecycle event {'msg': 'effective_min_count=5 retains 6270 unique words (48.70% of original 12876, drops 6606)', 'datetime': '2025-08-23T22:05:14.286885', 'gensim': '4.3.3', 'python': '3.12.3 (main, Apr 15 2024, 18:25:56) [Clang 17.0.6 ]', 'platform': 'Linux-6.6.87.2-microsoft-standard-WSL2-x86_64-with-glibc2.35', 'event': 'prepare_vocab'}\n",
      "2025-08-23 22:05:14,288 : INFO : Word2Vec lifecycle event {'msg': 'effective_min_count=5 leaves 364046 word corpus (95.57% of original 380940, drops 16894)', 'datetime': '2025-08-23T22:05:14.288349', 'gensim': '4.3.3', 'python': '3.12.3 (main, Apr 15 2024, 18:25:56) [Clang 17.0.6 ]', 'platform': 'Linux-6.6.87.2-microsoft-standard-WSL2-x86_64-with-glibc2.35', 'event': 'prepare_vocab'}\n",
      "2025-08-23 22:05:14,360 : INFO : deleting the raw counts dictionary of 12876 items\n",
      "2025-08-23 22:05:14,361 : INFO : sample=0.001 downsamples 33 most-common words\n",
      "2025-08-23 22:05:14,362 : INFO : Word2Vec lifecycle event {'msg': 'downsampling leaves estimated 351676.828408842 word corpus (96.6%% of prior 364046)', 'datetime': '2025-08-23T22:05:14.362853', 'gensim': '4.3.3', 'python': '3.12.3 (main, Apr 15 2024, 18:25:56) [Clang 17.0.6 ]', 'platform': 'Linux-6.6.87.2-microsoft-standard-WSL2-x86_64-with-glibc2.35', 'event': 'prepare_vocab'}\n",
      "2025-08-23 22:05:14,471 : INFO : estimated required memory for 6270 words and 300 dimensions: 18183000 bytes\n",
      "2025-08-23 22:05:14,473 : INFO : resetting layer weights\n",
      "2025-08-23 22:05:14,499 : INFO : Word2Vec lifecycle event {'update': False, 'trim_rule': 'None', 'datetime': '2025-08-23T22:05:14.499553', 'gensim': '4.3.3', 'python': '3.12.3 (main, Apr 15 2024, 18:25:56) [Clang 17.0.6 ]', 'platform': 'Linux-6.6.87.2-microsoft-standard-WSL2-x86_64-with-glibc2.35', 'event': 'build_vocab'}\n",
      "2025-08-23 22:05:14,501 : INFO : Word2Vec lifecycle event {'msg': 'training model with 4 workers on 6270 vocabulary and 300 features, using sg=1 hs=0 sample=0.001 negative=5 window=5 shrink_windows=True', 'datetime': '2025-08-23T22:05:14.501554', 'gensim': '4.3.3', 'python': '3.12.3 (main, Apr 15 2024, 18:25:56) [Clang 17.0.6 ]', 'platform': 'Linux-6.6.87.2-microsoft-standard-WSL2-x86_64-with-glibc2.35', 'event': 'train'}\n",
      "2025-08-23 22:05:15,599 : INFO : EPOCH 0 - PROGRESS: at 75.87% examples, 246882 words/s, in_qsize 7, out_qsize 0\n",
      "2025-08-23 22:05:15,833 : INFO : EPOCH 0: training on 380940 raw words (351742 effective words) took 1.3s, 266827 effective words/s\n",
      "2025-08-23 22:05:16,910 : INFO : EPOCH 1 - PROGRESS: at 78.04% examples, 259709 words/s, in_qsize 7, out_qsize 0\n",
      "2025-08-23 22:05:17,161 : INFO : EPOCH 1: training on 380940 raw words (351657 effective words) took 1.3s, 266999 effective words/s\n",
      "2025-08-23 22:05:18,215 : INFO : EPOCH 2 - PROGRESS: at 75.87% examples, 256500 words/s, in_qsize 7, out_qsize 0\n",
      "2025-08-23 22:05:18,444 : INFO : EPOCH 2: training on 380940 raw words (351703 effective words) took 1.3s, 276346 effective words/s\n",
      "2025-08-23 22:05:19,526 : INFO : EPOCH 3 - PROGRESS: at 85.22% examples, 284539 words/s, in_qsize 6, out_qsize 0\n",
      "2025-08-23 22:05:19,628 : INFO : EPOCH 3: training on 380940 raw words (351617 effective words) took 1.2s, 300006 effective words/s\n",
      "2025-08-23 22:05:20,658 : INFO : EPOCH 4 - PROGRESS: at 82.85% examples, 291500 words/s, in_qsize 7, out_qsize 0\n",
      "2025-08-23 22:05:20,833 : INFO : EPOCH 4: training on 380940 raw words (351566 effective words) took 1.2s, 295985 effective words/s\n",
      "2025-08-23 22:05:20,835 : INFO : Word2Vec lifecycle event {'msg': 'training on 1904700 raw words (1758285 effective words) took 6.3s, 277648 effective words/s', 'datetime': '2025-08-23T22:05:20.835529', 'gensim': '4.3.3', 'python': '3.12.3 (main, Apr 15 2024, 18:25:56) [Clang 17.0.6 ]', 'platform': 'Linux-6.6.87.2-microsoft-standard-WSL2-x86_64-with-glibc2.35', 'event': 'train'}\n",
      "2025-08-23 22:05:20,836 : INFO : Word2Vec lifecycle event {'params': 'Word2Vec<vocab=6270, vector_size=300, alpha=0.025>', 'datetime': '2025-08-23T22:05:20.836672', 'gensim': '4.3.3', 'python': '3.12.3 (main, Apr 15 2024, 18:25:56) [Clang 17.0.6 ]', 'platform': 'Linux-6.6.87.2-microsoft-standard-WSL2-x86_64-with-glibc2.35', 'event': 'created'}\n"
     ]
    }
   ],
   "source": [
    "# train the word2vwc model\n",
    "import gensim.models\n",
    "model=gensim.models.Word2Vec(sentences=train_texts_cleaned,vector_size=300, workers=4, sg=1, hs=0, compute_loss=True, seed=42)"
   ]
  },
  {
   "cell_type": "code",
   "execution_count": 17,
   "id": "3fec707f",
   "metadata": {},
   "outputs": [],
   "source": [
    "wv=model.wv"
   ]
  },
  {
   "cell_type": "code",
   "execution_count": 20,
   "id": "9acdd4b6",
   "metadata": {},
   "outputs": [
    {
     "name": "stdout",
     "output_type": "stream",
     "text": [
      "[('transformation', 0.6316876411437988), ('uncategorized', 0.6107181310653687), ('glific', 0.6060605049133301), ('visualization', 0.5742401480674744), ('airbyte', 0.5701705813407898)]\n"
     ]
    }
   ],
   "source": [
    "print(wv.most_similar(positive=['dalgo'], topn=5))"
   ]
  },
  {
   "cell_type": "code",
   "execution_count": 24,
   "id": "497d82c2",
   "metadata": {},
   "outputs": [
    {
     "name": "stdout",
     "output_type": "stream",
     "text": [
      "word #0/6270 is their\n",
      "word #1/6270 is project\n",
      "word #2/6270 is about\n",
      "word #3/6270 is glific\n",
      "word #4/6270 is which\n",
      "word #5/6270 is sprint\n",
      "word #6/6270 is program\n",
      "word #7/6270 is these\n",
      "word #8/6270 is platform\n",
      "word #9/6270 is impact\n"
     ]
    }
   ],
   "source": [
    "for index, word in enumerate(wv.index_to_key):\n",
    "    if index == 10:\n",
    "        break\n",
    "    print(f\"word #{index}/{len(wv.index_to_key)} is {word}\")"
   ]
  },
  {
   "cell_type": "code",
   "execution_count": 31,
   "id": "77d4929d",
   "metadata": {},
   "outputs": [
    {
     "name": "stderr",
     "output_type": "stream",
     "text": [
      "2025-08-23 22:22:06,799 : INFO : Word2Vec lifecycle event {'fname_or_handle': 'model/gensim-t4d-word2Vec.model', 'separately': 'None', 'sep_limit': 10485760, 'ignore': frozenset(), 'datetime': '2025-08-23T22:22:06.799524', 'gensim': '4.3.3', 'python': '3.12.3 (main, Apr 15 2024, 18:25:56) [Clang 17.0.6 ]', 'platform': 'Linux-6.6.87.2-microsoft-standard-WSL2-x86_64-with-glibc2.35', 'event': 'saving'}\n",
      "2025-08-23 22:22:06,804 : INFO : not storing attribute cum_table\n",
      "2025-08-23 22:22:06,870 : INFO : saved model/gensim-t4d-word2Vec.model\n"
     ]
    }
   ],
   "source": [
    "model.save('model/gensim-t4d-word2Vec.model')"
   ]
  },
  {
   "cell_type": "code",
   "execution_count": 46,
   "id": "1fd5f21f",
   "metadata": {},
   "outputs": [
    {
     "name": "stderr",
     "output_type": "stream",
     "text": [
      "2025-08-23 22:40:18,742 : INFO : loading Word2Vec object from model/gensim-t4d-word2Vec.model\n",
      "2025-08-23 22:40:18,771 : INFO : loading wv recursively from model/gensim-t4d-word2Vec.model.wv.* with mmap=None\n",
      "2025-08-23 22:40:18,773 : INFO : setting ignored attribute cum_table to None\n",
      "2025-08-23 22:40:18,860 : INFO : Word2Vec lifecycle event {'fname': 'model/gensim-t4d-word2Vec.model', 'datetime': '2025-08-23T22:40:18.860889', 'gensim': '4.3.3', 'python': '3.12.3 (main, Apr 15 2024, 18:25:56) [Clang 17.0.6 ]', 'platform': 'Linux-6.6.87.2-microsoft-standard-WSL2-x86_64-with-glibc2.35', 'event': 'loaded'}\n"
     ]
    }
   ],
   "source": [
    "model=gensim.models.Word2Vec.load('model/gensim-t4d-word2Vec.model')"
   ]
  },
  {
   "cell_type": "code",
   "execution_count": 47,
   "id": "3a7773a1",
   "metadata": {},
   "outputs": [],
   "source": [
    "import numpy as np\n",
    "\n",
    "# convert to numpy array for fast search\n",
    "vectors=model.wv.vectors\n",
    "vocab_list=list(model.wv.key_to_index.keys())\n",
    "# Save optimized format\n",
    "np.savez_compressed(\"search_embeddings.npz\", \n",
    "                   vectors=vectors, \n",
    "                   vocab=vocab_list)"
   ]
  },
  {
   "cell_type": "code",
   "execution_count": 48,
   "id": "f3776258",
   "metadata": {},
   "outputs": [],
   "source": [
    "class HybridSearchEngine:\n",
    "    def __init__(self, model_path):\n",
    "        \"\"\"Initialize with both Gensim and manual methods available\"\"\"\n",
    "        self.model = gensim.models.Word2Vec.load(model_path)\n",
    "        self.wv = self.model.wv  # KeyedVectors object\n",
    "        \n",
    "        # For manual methods\n",
    "        self.vectors = self.wv.vectors\n",
    "        self.vocab = list(self.wv.key_to_index.keys())\n",
    "        self.word_to_idx = {word: idx for idx, word in enumerate(self.vocab)}\n",
    "        \n",
    "        # Pre-compute normalized vectors\n",
    "        norms = np.linalg.norm(self.vectors, axis=1, keepdims=True)\n",
    "        self.norm_vectors = self.vectors / norms\n",
    "        \n",
    "        print(f\"Initialized hybrid search with {len(self.vocab)} words\")\n",
    "    \n",
    "    def gensim_search(self, word, top_k=10):\n",
    "        \"\"\"Use Gensim's built-in most_similar method\"\"\"\n",
    "        try:\n",
    "            return self.wv.most_similar(word, topn=top_k)\n",
    "        except KeyError:\n",
    "            return f\"'{word}' not in vocabulary\"\n",
    "    def manual_search(self, word, top_k=10):\n",
    "        \"\"\"Use manual similarity computation\"\"\"\n",
    "        if word not in self.word_to_idx:\n",
    "            return f\"'{word}' not in vocabulary\"\n",
    "        \n",
    "        word_idx = self.word_to_idx[word]\n",
    "        query_vector = self.norm_vectors[word_idx]\n",
    "        \n",
    "        similarities = np.dot(self.norm_vectors, query_vector)\n",
    "        top_indices = np.argsort(similarities)[::-1][1:top_k+1]\n",
    "        \n",
    "        return [(self.vocab[i], similarities[i]) for i in top_indices]"
   ]
  },
  {
   "cell_type": "code",
   "execution_count": 49,
   "id": "ccaf9e84",
   "metadata": {},
   "outputs": [
    {
     "name": "stderr",
     "output_type": "stream",
     "text": [
      "2025-08-23 22:56:54,556 : INFO : loading Word2Vec object from model/gensim-t4d-word2Vec.model\n",
      "2025-08-23 22:56:54,604 : INFO : loading wv recursively from model/gensim-t4d-word2Vec.model.wv.* with mmap=None\n",
      "2025-08-23 22:56:54,606 : INFO : setting ignored attribute cum_table to None\n",
      "2025-08-23 22:56:54,683 : INFO : Word2Vec lifecycle event {'fname': 'model/gensim-t4d-word2Vec.model', 'datetime': '2025-08-23T22:56:54.683593', 'gensim': '4.3.3', 'python': '3.12.3 (main, Apr 15 2024, 18:25:56) [Clang 17.0.6 ]', 'platform': 'Linux-6.6.87.2-microsoft-standard-WSL2-x86_64-with-glibc2.35', 'event': 'loaded'}\n"
     ]
    },
    {
     "name": "stdout",
     "output_type": "stream",
     "text": [
      "Initialized hybrid search with 6270 words\n"
     ]
    }
   ],
   "source": [
    "search_engine=HybridSearchEngine(\"model/gensim-t4d-word2Vec.model\")\n"
   ]
  },
  {
   "cell_type": "code",
   "execution_count": 53,
   "id": "701af5ac",
   "metadata": {},
   "outputs": [],
   "source": [
    "import time"
   ]
  },
  {
   "cell_type": "code",
   "execution_count": 92,
   "id": "dc37ebb4",
   "metadata": {},
   "outputs": [
    {
     "name": "stdout",
     "output_type": "stream",
     "text": [
      "✅ most_similar(): 0.0005s\n",
      "   Results: 'gilfic' n...\n"
     ]
    }
   ],
   "source": [
    "start_time=time.time()\n",
    "gensim_similar=search_engine.gensim_search(\"gilfic\")\n",
    "gensim_time=time.time()-start_time\n",
    "print(f\"✅ most_similar(): {gensim_time:.4f}s\")\n",
    "print(f\"   Results: {gensim_similar[:10]}...\")"
   ]
  },
  {
   "cell_type": "code",
   "execution_count": 85,
   "id": "61477847",
   "metadata": {},
   "outputs": [
    {
     "name": "stdout",
     "output_type": "stream",
     "text": [
      "✅ most_similar(): 0.0002s\n",
      "   Results: 'Cascading...\n"
     ]
    }
   ],
   "source": [
    "start_time=time.time()\n",
    "manual_similar=search_engine.manual_search(\"Cascading\")\n",
    "manual_time=time.time()-start_time\n",
    "print(f\"✅ most_similar(): {manual_time:.4f}s\")\n",
    "print(f\"   Results: {manual_similar[:10]}...\")"
   ]
  },
  {
   "cell_type": "code",
   "execution_count": 51,
   "id": "0f92726a",
   "metadata": {},
   "outputs": [
    {
     "data": {
      "text/plain": [
       "[('transformation', 0.63168764),\n",
       " ('uncategorized', 0.61071813),\n",
       " ('glific', 0.6060605),\n",
       " ('visualization', 0.57424015),\n",
       " ('airbyte', 0.5701705),\n",
       " ('sprints', 0.5670184),\n",
       " ('developer', 0.55133516),\n",
       " ('fractional', 0.54705876),\n",
       " ('functional', 0.5466279),\n",
       " ('connector', 0.5440986)]"
      ]
     },
     "execution_count": 51,
     "metadata": {},
     "output_type": "execute_result"
    }
   ],
   "source": [
    "manual_results=search_engine.manual_search(\"dalgo\")\n",
    "manual_results\n"
   ]
  },
  {
   "cell_type": "code",
   "execution_count": 42,
   "id": "8baf9680",
   "metadata": {},
   "outputs": [
    {
     "data": {
      "text/plain": [
       "defaultdict(int, {})"
      ]
     },
     "execution_count": 42,
     "metadata": {},
     "output_type": "execute_result"
    }
   ],
   "source": [
    "t4d_w2v.raw_vocab\n"
   ]
  }
 ],
 "metadata": {
  "kernelspec": {
   "display_name": ".venv",
   "language": "python",
   "name": "python3"
  },
  "language_info": {
   "codemirror_mode": {
    "name": "ipython",
    "version": 3
   },
   "file_extension": ".py",
   "mimetype": "text/x-python",
   "name": "python",
   "nbconvert_exporter": "python",
   "pygments_lexer": "ipython3",
   "version": "3.12.3"
  }
 },
 "nbformat": 4,
 "nbformat_minor": 5
}
